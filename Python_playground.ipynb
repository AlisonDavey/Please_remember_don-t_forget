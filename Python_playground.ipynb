{
  "nbformat": 4,
  "nbformat_minor": 0,
  "metadata": {
    "colab": {
      "name": "Python_playground.ipynb",
      "provenance": [],
      "collapsed_sections": []
    },
    "kernelspec": {
      "name": "python3",
      "display_name": "Python 3"
    }
  },
  "cells": [
    {
      "cell_type": "markdown",
      "metadata": {
        "id": "YCyJnxZ8c1Mo"
      },
      "source": [
        "# Blackcellmagic"
      ]
    },
    {
      "cell_type": "code",
      "metadata": {
        "id": "b7pMcMX2Gb9T",
        "outputId": "db36059e-9d9a-4e9f-ce33-925b9c67aa23",
        "colab": {
          "base_uri": "https://localhost:8080/",
          "height": 939
        }
      },
      "source": [
        "!pip install blackcellmagic"
      ],
      "execution_count": null,
      "outputs": [
        {
          "output_type": "stream",
          "text": [
            "Collecting blackcellmagic\n",
            "  Downloading https://files.pythonhosted.org/packages/2b/dc/97c5936a65fe7c58d7cf474ea7488554905c04177e15df1fcab64332e48d/blackcellmagic-0.0.2.tar.gz\n",
            "Collecting black\n",
            "\u001b[?25l  Downloading https://files.pythonhosted.org/packages/dc/7b/5a6bbe89de849f28d7c109f5ea87b65afa5124ad615f3419e71beb29dc96/black-20.8b1.tar.gz (1.1MB)\n",
            "\u001b[K     |████████████████████████████████| 1.1MB 4.4MB/s \n",
            "\u001b[?25h  Installing build dependencies ... \u001b[?25l\u001b[?25hdone\n",
            "  Getting requirements to build wheel ... \u001b[?25l\u001b[?25hdone\n",
            "    Preparing wheel metadata ... \u001b[?25l\u001b[?25hdone\n",
            "Requirement already satisfied: ipython in /usr/local/lib/python3.6/dist-packages (from blackcellmagic) (5.5.0)\n",
            "Collecting regex>=2020.1.8\n",
            "\u001b[?25l  Downloading https://files.pythonhosted.org/packages/66/f2/b3af9ce9df4b7e121dfeece41fc95e37b14f0153821f35d08edb0b0813ff/regex-2020.7.14-cp36-cp36m-manylinux2010_x86_64.whl (660kB)\n",
            "\u001b[K     |████████████████████████████████| 665kB 24.9MB/s \n",
            "\u001b[?25hCollecting mypy-extensions>=0.4.3\n",
            "  Downloading https://files.pythonhosted.org/packages/5c/eb/975c7c080f3223a5cdaff09612f3a5221e4ba534f7039db34c35d95fa6a5/mypy_extensions-0.4.3-py2.py3-none-any.whl\n",
            "Requirement already satisfied: typing-extensions>=3.7.4 in /usr/local/lib/python3.6/dist-packages (from black->blackcellmagic) (3.7.4.3)\n",
            "Collecting appdirs\n",
            "  Downloading https://files.pythonhosted.org/packages/3b/00/2344469e2084fb287c2e0b57b72910309874c3245463acd6cf5e3db69324/appdirs-1.4.4-py2.py3-none-any.whl\n",
            "Requirement already satisfied: toml>=0.10.1 in /usr/local/lib/python3.6/dist-packages (from black->blackcellmagic) (0.10.1)\n",
            "Collecting pathspec<1,>=0.6\n",
            "  Downloading https://files.pythonhosted.org/packages/5d/d0/887c58853bd4b6ffc7aa9cdba4fc57d7b979b45888a6bd47e4568e1cf868/pathspec-0.8.0-py2.py3-none-any.whl\n",
            "Requirement already satisfied: dataclasses>=0.6; python_version < \"3.7\" in /usr/local/lib/python3.6/dist-packages (from black->blackcellmagic) (0.7)\n",
            "Collecting typed-ast>=1.4.0\n",
            "\u001b[?25l  Downloading https://files.pythonhosted.org/packages/90/ed/5459080d95eb87a02fe860d447197be63b6e2b5e9ff73c2b0a85622994f4/typed_ast-1.4.1-cp36-cp36m-manylinux1_x86_64.whl (737kB)\n",
            "\u001b[K     |████████████████████████████████| 747kB 32.8MB/s \n",
            "\u001b[?25hRequirement already satisfied: click>=7.1.2 in /usr/local/lib/python3.6/dist-packages (from black->blackcellmagic) (7.1.2)\n",
            "Requirement already satisfied: pygments in /usr/local/lib/python3.6/dist-packages (from ipython->blackcellmagic) (2.6.1)\n",
            "Requirement already satisfied: decorator in /usr/local/lib/python3.6/dist-packages (from ipython->blackcellmagic) (4.4.2)\n",
            "Requirement already satisfied: pickleshare in /usr/local/lib/python3.6/dist-packages (from ipython->blackcellmagic) (0.7.5)\n",
            "Requirement already satisfied: simplegeneric>0.8 in /usr/local/lib/python3.6/dist-packages (from ipython->blackcellmagic) (0.8.1)\n",
            "Requirement already satisfied: setuptools>=18.5 in /usr/local/lib/python3.6/dist-packages (from ipython->blackcellmagic) (50.3.0)\n",
            "Requirement already satisfied: prompt-toolkit<2.0.0,>=1.0.4 in /usr/local/lib/python3.6/dist-packages (from ipython->blackcellmagic) (1.0.18)\n",
            "Requirement already satisfied: pexpect; sys_platform != \"win32\" in /usr/local/lib/python3.6/dist-packages (from ipython->blackcellmagic) (4.8.0)\n",
            "Requirement already satisfied: traitlets>=4.2 in /usr/local/lib/python3.6/dist-packages (from ipython->blackcellmagic) (4.3.3)\n",
            "Requirement already satisfied: wcwidth in /usr/local/lib/python3.6/dist-packages (from prompt-toolkit<2.0.0,>=1.0.4->ipython->blackcellmagic) (0.2.5)\n",
            "Requirement already satisfied: six>=1.9.0 in /usr/local/lib/python3.6/dist-packages (from prompt-toolkit<2.0.0,>=1.0.4->ipython->blackcellmagic) (1.15.0)\n",
            "Requirement already satisfied: ptyprocess>=0.5 in /usr/local/lib/python3.6/dist-packages (from pexpect; sys_platform != \"win32\"->ipython->blackcellmagic) (0.6.0)\n",
            "Requirement already satisfied: ipython-genutils in /usr/local/lib/python3.6/dist-packages (from traitlets>=4.2->ipython->blackcellmagic) (0.2.0)\n",
            "Building wheels for collected packages: black\n",
            "  Building wheel for black (PEP 517) ... \u001b[?25l\u001b[?25hdone\n",
            "  Created wheel for black: filename=black-20.8b1-cp36-none-any.whl size=124186 sha256=8fb9137d7d364e8c34b4bec3910f58c6694a06b1cf854194a384258c95826eac\n",
            "  Stored in directory: /root/.cache/pip/wheels/6e/10/b5/edf7359c2edd0305cce7e3f96e07daf7ce55dceac9d3ce3373\n",
            "Successfully built black\n",
            "Building wheels for collected packages: blackcellmagic\n",
            "  Building wheel for blackcellmagic (setup.py) ... \u001b[?25l\u001b[?25hdone\n",
            "  Created wheel for blackcellmagic: filename=blackcellmagic-0.0.2-cp36-none-any.whl size=3087 sha256=229c0153bd7afc4907a21372e79da56242ea09b7c42ee1de05f8813d632c60b5\n",
            "  Stored in directory: /root/.cache/pip/wheels/b3/0d/de/2877216e31162d9a3f680ca36540af18563f6fc1c36d84c198\n",
            "Successfully built blackcellmagic\n",
            "Installing collected packages: regex, mypy-extensions, appdirs, pathspec, typed-ast, black, blackcellmagic\n",
            "  Found existing installation: regex 2019.12.20\n",
            "    Uninstalling regex-2019.12.20:\n",
            "      Successfully uninstalled regex-2019.12.20\n",
            "Successfully installed appdirs-1.4.4 black-20.8b1 blackcellmagic-0.0.2 mypy-extensions-0.4.3 pathspec-0.8.0 regex-2020.7.14 typed-ast-1.4.1\n"
          ],
          "name": "stdout"
        }
      ]
    },
    {
      "cell_type": "code",
      "metadata": {
        "id": "TlUIIl33cv9Q"
      },
      "source": [
        "%load_ext blackcellmagic"
      ],
      "execution_count": null,
      "outputs": []
    },
    {
      "cell_type": "code",
      "metadata": {
        "id": "aQNGOoQ_c9uP"
      },
      "source": [
        "%%black\n",
        "def plot_loss(self, skip_start=5, with_valid=True):\n",
        "  plt.plot(list(range(skip_start, len(self.losses))), self.losses[skip_start:], label='train')\n",
        "  if with_valid:\n",
        "    idx = (np.array(self.iters)<skip_start).sum()\n",
        "    plt.plot(self.iters[idx:], L(self.values[idx:]).itemgot(5), label='valid')\n",
        "    plt.legend()"
      ],
      "execution_count": null,
      "outputs": []
    },
    {
      "cell_type": "markdown",
      "metadata": {
        "id": "DgJARK_Ifx0j"
      },
      "source": [
        "# Handcalcs"
      ]
    },
    {
      "cell_type": "code",
      "metadata": {
        "id": "g8A0_580dZ2F",
        "outputId": "69dc15f4-39aa-442b-83ae-cd379d0e91d4",
        "colab": {
          "base_uri": "https://localhost:8080/",
          "height": 159
        }
      },
      "source": [
        "!pip install handcalcs"
      ],
      "execution_count": null,
      "outputs": [
        {
          "output_type": "stream",
          "text": [
            "Collecting handcalcs\n",
            "  Downloading https://files.pythonhosted.org/packages/bc/92/15b04383f62df9fab6061517c3b7761e046b3c38046f6b45fcb8c00eaa60/handcalcs-0.2.0-py3-none-any.whl\n",
            "Requirement already satisfied: jinja2 in /usr/local/lib/python3.6/dist-packages (from handcalcs) (2.11.2)\n",
            "Requirement already satisfied: pyparsing in /usr/local/lib/python3.6/dist-packages (from handcalcs) (2.4.7)\n",
            "Requirement already satisfied: MarkupSafe>=0.23 in /usr/local/lib/python3.6/dist-packages (from jinja2->handcalcs) (1.1.1)\n",
            "Installing collected packages: handcalcs\n",
            "Successfully installed handcalcs-0.2.0\n"
          ],
          "name": "stdout"
        }
      ]
    },
    {
      "cell_type": "code",
      "metadata": {
        "id": "TYWEVrQFeI9i"
      },
      "source": [
        "import handcalcs.render"
      ],
      "execution_count": null,
      "outputs": []
    },
    {
      "cell_type": "code",
      "metadata": {
        "id": "jxP_iedDedAn",
        "outputId": "3f4affdf-c58d-4edf-9890-1fd3659706a6",
        "colab": {
          "base_uri": "https://localhost:8080/",
          "height": 104
        }
      },
      "source": [
        "%%render\n",
        "a = 10\n",
        "b = 4"
      ],
      "execution_count": null,
      "outputs": [
        {
          "output_type": "display_data",
          "data": {
            "text/latex": "\\[\n\\begin{aligned}\na &= 10 \\;\\textit{    }\\\\[10pt]\nb &= 4 \\;\\textit{    }\\end{aligned}\n\\]",
            "text/plain": [
              "<IPython.core.display.Latex object>"
            ]
          },
          "metadata": {
            "tags": []
          }
        }
      ]
    },
    {
      "cell_type": "markdown",
      "metadata": {
        "id": "o8_N-si2fUWO"
      },
      "source": [
        "\\begin{aligned}\n",
        "a &= 10 \\;\\textit{    }\\\\[10pt]\n",
        "b &= 4 \\;\\textit{    }\\end{aligned}"
      ]
    },
    {
      "cell_type": "code",
      "metadata": {
        "id": "F2PXpqIhd2-l",
        "outputId": "6fe2b5c8-10c4-497b-f6c2-486e8ea802a4",
        "colab": {
          "base_uri": "https://localhost:8080/",
          "height": 104
        }
      },
      "source": [
        "%%render\n",
        "c=a*b^4"
      ],
      "execution_count": null,
      "outputs": [
        {
          "output_type": "display_data",
          "data": {
            "text/latex": "\\[\n\\begin{aligned}\nc &= a \\cdot b ^ 4 = 10 \\cdot 4 ^ 4 &= 44 \\;\\textit{    }\n\\end{aligned}\n\\]",
            "text/plain": [
              "<IPython.core.display.Latex object>"
            ]
          },
          "metadata": {
            "tags": []
          }
        }
      ]
    },
    {
      "cell_type": "markdown",
      "metadata": {
        "id": "CS906IJffmNO"
      },
      "source": [
        "\\begin{aligned}\n",
        "c &= a \\cdot b ^ 4 = 10 \\cdot 4 ^ 4 &= 44 \\;\\textit{    }\n",
        "\\end{aligned}"
      ]
    },
    {
      "cell_type": "markdown",
      "metadata": {
        "id": "-QpB4cugjEWa"
      },
      "source": [
        "## **Python 3 features**\n",
        "https://twitter.com/svpino/status/1308632185113579522\n",
        "\n",
        "https://carbon.now.sh/\n"
      ]
    },
    {
      "cell_type": "markdown",
      "metadata": {
        "id": "IlJZtAMijOwq"
      },
      "source": [
        "1. Instead of cluttering your code with constants, you can create an enumeration using the Enum class. An **enumeration** is a set of symbolic names bound to unique, constant values.\n",
        "\n",
        "https://docs.python.org/3/library/enum.html?highlight=enum#module-enum"
      ]
    },
    {
      "cell_type": "code",
      "metadata": {
        "id": "2q82CzeZjwBx"
      },
      "source": [
        "from enum import Enum"
      ],
      "execution_count": null,
      "outputs": []
    },
    {
      "cell_type": "code",
      "metadata": {
        "id": "CDk-htg9jG5s",
        "outputId": "70a500a5-176a-4c59-e0cd-7b5d3536193c",
        "colab": {
          "base_uri": "https://localhost:8080/",
          "height": 87
        }
      },
      "source": [
        "class Color(Enum):\n",
        "  RED=1,\n",
        "  GREEN=2\n",
        "  BLUE=3\n",
        "\n",
        "print(repr(Color.RED), type(Color.RED), Color.RED.name)\n",
        "for color in Color: print(color)"
      ],
      "execution_count": null,
      "outputs": [
        {
          "output_type": "stream",
          "text": [
            "<Color.RED: (1,)> <enum 'Color'> RED\n",
            "Color.RED\n",
            "Color.GREEN\n",
            "Color.BLUE\n"
          ],
          "name": "stdout"
        }
      ]
    },
    {
      "cell_type": "markdown",
      "metadata": {
        "id": "kQhtVz21lh0k"
      },
      "source": [
        "2. Using **data classes**, Python will automatically generate special methods like __init__ and __repr__, reducing a lot of the clutter from your code. This considerably reduces the amount of repetitive code that you need to write.\n",
        "\n",
        "https://realpython.com/python-data-classes/\n",
        "https://docs.python.org/3/library/dataclasses.html"
      ]
    },
    {
      "cell_type": "code",
      "metadata": {
        "id": "ouVRybxXk6BK"
      },
      "source": [
        "from dataclasses import dataclass"
      ],
      "execution_count": null,
      "outputs": []
    },
    {
      "cell_type": "code",
      "metadata": {
        "id": "ESrwpD6kmBNu",
        "outputId": "4deb9456-9fca-4993-cc35-0bfabd2d4efb",
        "colab": {
          "base_uri": "https://localhost:8080/",
          "height": 35
        }
      },
      "source": [
        "class Rectangle:\n",
        "  def __init__(self, color: str, width: float, height: float) -> None:\n",
        "    self.color = color\n",
        "    self.width = width\n",
        "    self.height = height\n",
        "\n",
        "  def area(self) -> float:\n",
        "    return self.width * self.height\n",
        "\n",
        "Rectangle('Blue',2,3)"
      ],
      "execution_count": null,
      "outputs": [
        {
          "output_type": "execute_result",
          "data": {
            "text/plain": [
              "<__main__.Rectangle at 0x7f3b4f403d30>"
            ]
          },
          "metadata": {
            "tags": []
          },
          "execution_count": 28
        }
      ]
    },
    {
      "cell_type": "code",
      "metadata": {
        "id": "CzerMK9hnLqL",
        "outputId": "1610d766-0705-4318-d5ce-75760000d796",
        "colab": {
          "base_uri": "https://localhost:8080/",
          "height": 35
        }
      },
      "source": [
        "Rectangle('Blue',2,3).area()"
      ],
      "execution_count": null,
      "outputs": [
        {
          "output_type": "execute_result",
          "data": {
            "text/plain": [
              "6"
            ]
          },
          "metadata": {
            "tags": []
          },
          "execution_count": 29
        }
      ]
    },
    {
      "cell_type": "code",
      "metadata": {
        "id": "YgK-sloCncEI",
        "outputId": "1d2121b8-f0a4-424f-e93c-830bb5d16e3b",
        "colab": {
          "base_uri": "https://localhost:8080/",
          "height": 35
        }
      },
      "source": [
        "@dataclass\n",
        "class Rectangle1:\n",
        "  color: str\n",
        "  width: float\n",
        "  height: float\n",
        "\n",
        "  def area(self) -> float:\n",
        "    return self.width * self.height\n",
        "\n",
        "Rectangle1('Blue',2,3)"
      ],
      "execution_count": null,
      "outputs": [
        {
          "output_type": "execute_result",
          "data": {
            "text/plain": [
              "Rectangle1(color='Blue', width=2, height=3)"
            ]
          },
          "metadata": {
            "tags": []
          },
          "execution_count": 30
        }
      ]
    },
    {
      "cell_type": "code",
      "metadata": {
        "id": "Kb7vdL-xn1dD",
        "outputId": "63db7534-5429-4f3d-fed9-c14b4f1885e1",
        "colab": {
          "base_uri": "https://localhost:8080/",
          "height": 35
        }
      },
      "source": [
        "Rectangle1('Blue',2,3).area()"
      ],
      "execution_count": null,
      "outputs": [
        {
          "output_type": "execute_result",
          "data": {
            "text/plain": [
              "6"
            ]
          },
          "metadata": {
            "tags": []
          },
          "execution_count": 31
        }
      ]
    },
    {
      "cell_type": "markdown",
      "metadata": {
        "id": "VdkgNXpMdxYe"
      },
      "source": [
        "3. The **pathlib** module provides a way to interact with the file system in a much more convenient way than dealing with os.path or the glob module.\n",
        "\n",
        "https://realpython.com/python-pathlib/\n",
        "\n",
        "https://docs.python.org/3/library/pathlib.html\n"
      ]
    },
    {
      "cell_type": "code",
      "metadata": {
        "id": "e7bVkl9ln8KT"
      },
      "source": [
        "from pathlib import Path"
      ],
      "execution_count": null,
      "outputs": []
    },
    {
      "cell_type": "code",
      "metadata": {
        "id": "2I0ik8vKejwH",
        "outputId": "4d332f86-04db-406d-fbf8-fb2ad77a4f5a",
        "colab": {
          "base_uri": "https://localhost:8080/",
          "height": 35
        }
      },
      "source": [
        "path = Path()\n",
        "path"
      ],
      "execution_count": null,
      "outputs": [
        {
          "output_type": "execute_result",
          "data": {
            "text/plain": [
              "PosixPath('.')"
            ]
          },
          "metadata": {
            "tags": []
          },
          "execution_count": 33
        }
      ]
    },
    {
      "cell_type": "code",
      "metadata": {
        "id": "5FKmDhcKe0j1",
        "outputId": "8adb3cbf-97ff-4156-ffa2-aae2cc6a1001",
        "colab": {
          "base_uri": "https://localhost:8080/",
          "height": 35
        }
      },
      "source": [
        "path.cwd() # current working directory"
      ],
      "execution_count": null,
      "outputs": [
        {
          "output_type": "execute_result",
          "data": {
            "text/plain": [
              "PosixPath('/content')"
            ]
          },
          "metadata": {
            "tags": []
          },
          "execution_count": 34
        }
      ]
    },
    {
      "cell_type": "code",
      "metadata": {
        "id": "pWCz8LS0e23_",
        "outputId": "cd1545ad-456f-4880-b0eb-98bc4514805f",
        "colab": {
          "base_uri": "https://localhost:8080/",
          "height": 35
        }
      },
      "source": [
        "path.home()"
      ],
      "execution_count": null,
      "outputs": [
        {
          "output_type": "execute_result",
          "data": {
            "text/plain": [
              "PosixPath('/root')"
            ]
          },
          "metadata": {
            "tags": []
          },
          "execution_count": 35
        }
      ]
    },
    {
      "cell_type": "code",
      "metadata": {
        "id": "MTSAPJPDe6Wj",
        "outputId": "dee1efa9-ba1e-4179-de1e-38be26cbc27c",
        "colab": {
          "base_uri": "https://localhost:8080/",
          "height": 35
        }
      },
      "source": [
        "path.resolve() # absolute path"
      ],
      "execution_count": null,
      "outputs": [
        {
          "output_type": "execute_result",
          "data": {
            "text/plain": [
              "PosixPath('/content')"
            ]
          },
          "metadata": {
            "tags": []
          },
          "execution_count": 36
        }
      ]
    },
    {
      "cell_type": "markdown",
      "metadata": {
        "id": "wlH4fJjifXlC"
      },
      "source": [
        "4. You can use **type hints** to indicate the type of a value in your code. For example, you can use it to annotate the arguments of a function and its return type. These hints make your code more readable, and help tools understand it better.\n",
        "\n",
        "http://veekaybee.github.io/2019/07/08/python-type-hints/\n",
        "```\n",
        "def function(variable: input_type) -> return_type:\n",
        "\tpass\n",
        "```\n",
        "https://docs.python.org/3/library/typing.html"
      ]
    },
    {
      "cell_type": "code",
      "metadata": {
        "id": "Q6URiWwQfEYU"
      },
      "source": [
        "def greeting(name: str) -> str:\n",
        "    return 'Hello ' + name"
      ],
      "execution_count": null,
      "outputs": []
    },
    {
      "cell_type": "code",
      "metadata": {
        "id": "UJqqjyFnfqz-",
        "outputId": "57ebd1e3-a00a-430a-d2ef-7f0f84df154f",
        "colab": {
          "base_uri": "https://localhost:8080/",
          "height": 35
        }
      },
      "source": [
        "greeting('Alison')"
      ],
      "execution_count": null,
      "outputs": [
        {
          "output_type": "execute_result",
          "data": {
            "application/vnd.google.colaboratory.intrinsic+json": {
              "type": "string"
            },
            "text/plain": [
              "'Hello Alison'"
            ]
          },
          "metadata": {
            "tags": []
          },
          "execution_count": 38
        }
      ]
    },
    {
      "cell_type": "markdown",
      "metadata": {
        "id": "3KYt_2cnggiy"
      },
      "source": [
        "5. Instead of having to use the .format() method to print your strings, you can use **f-strings** for a much more convenient way to replace values in your strings. f-strings are much more readable, concise, and easier to maintain.\n",
        "\n",
        "https://realpython.com/python-f-strings/\n",
        "\n",
        "https://www.python.org/dev/peps/pep-0498/"
      ]
    },
    {
      "cell_type": "code",
      "metadata": {
        "id": "FfBg24CSgTRv",
        "outputId": "2a312e3f-6959-429c-ba31-2fd03b77a9f5",
        "colab": {
          "base_uri": "https://localhost:8080/",
          "height": 52
        }
      },
      "source": [
        "x,y = 2,3\n",
        "print('x = {} and y = {}.'.format(x,y))\n",
        "print (f'x = {x} and y = {y}.')"
      ],
      "execution_count": null,
      "outputs": [
        {
          "output_type": "stream",
          "text": [
            "x = 2 and y = 3.\n",
            "x = 2 and y = 3.\n"
          ],
          "name": "stdout"
        }
      ]
    },
    {
      "cell_type": "markdown",
      "metadata": {
        "id": "Sg_mmcW_hqce"
      },
      "source": [
        "6. Using **Extended Iterable Unpacking**, you can specify a \"catch-all\" variable that will be assigned a list of the items not assigned to a regular variable. Simple, but very convenient to keep the code concise.\n",
        "\n",
        "https://www.python.org/dev/peps/pep-3132/\n",
        "\n",
        "https://www.rfk.id.au/blog/entry/extended-iterable-unpacking/"
      ]
    },
    {
      "cell_type": "code",
      "metadata": {
        "id": "Xjk9Jn0hg-If",
        "outputId": "ddfa7768-c91c-4d54-a8ca-735192b9722d",
        "colab": {
          "base_uri": "https://localhost:8080/",
          "height": 35
        }
      },
      "source": [
        "items = [1,2,3,4,5]\n",
        "a, *b, c = items\n",
        "a, b, c"
      ],
      "execution_count": null,
      "outputs": [
        {
          "output_type": "execute_result",
          "data": {
            "text/plain": [
              "(1, [2, 3, 4], 5)"
            ]
          },
          "metadata": {
            "tags": []
          },
          "execution_count": 40
        }
      ]
    },
    {
      "cell_type": "markdown",
      "metadata": {
        "id": "2J76N3BPis45"
      },
      "source": [
        "7. Using assignment expressions (through the **walrus operator :=**) you can assign and return a value in the same expression. This operator makes certain constructs more convenient and helps communicate the intent of your code more clearly.\n",
        "\n",
        "https://deepsource.io/blog/python-walrus-operator/\n",
        "\n",
        "https://www.python.org/dev/peps/pep-0572/\n",
        "\n",
        "Python 3.8\n",
        "```\n",
        "# Reuse a value that's expensive to compute\n",
        "def f(x): return x/2\n",
        "[y := f(x), y**2, y**3]\n",
        "```\n",
        "```\n",
        "# avoid writing the line twice\n",
        "while value := input('Enter a value: ') != \"0\":\n",
        "    print(f\"Value {value}\")\n",
        "```\n"
      ]
    },
    {
      "cell_type": "code",
      "metadata": {
        "id": "LHu9JYHRj5Xi",
        "outputId": "45121c54-0cc3-4dc8-bbe5-c145b21d5fd1",
        "colab": {
          "base_uri": "https://localhost:8080/",
          "height": 69
        }
      },
      "source": [
        "value = input('Enter a value: ')\n",
        "while value != \"0\":\n",
        "  value = input('Enter a value: ')\n",
        "  print(f\"Value {value}\")"
      ],
      "execution_count": null,
      "outputs": [
        {
          "output_type": "stream",
          "text": [
            "Enter a value: 8\n",
            "Enter a value: 0\n",
            "Value 0\n"
          ],
          "name": "stdout"
        }
      ]
    },
    {
      "cell_type": "markdown",
      "metadata": {
        "id": "CkSjS1DXl-zb"
      },
      "source": [
        "8. The asyncio module is the new way to write concurrent code using the async and await syntax. This approach allows for much more readable code and abstracts away many of the complexity inherent with concurrent programming.\n",
        "\n",
        "https://realpython.com/async-io-python/\n",
        "\n",
        "https://docs.python.org/3/library/asyncio.html"
      ]
    },
    {
      "cell_type": "code",
      "metadata": {
        "id": "SPLHWVRKkaqx"
      },
      "source": [
        "import asyncio\n",
        "\n",
        "async def main():\n",
        "    print('Hello ...')\n",
        "    await asyncio.sleep(1)\n",
        "    print('... World!')\n",
        "\n",
        "# Python 3.7+\n",
        "#asyncio.run(main())"
      ],
      "execution_count": null,
      "outputs": []
    },
    {
      "cell_type": "markdown",
      "metadata": {
        "id": "39cYVeKfnK6e"
      },
      "source": [
        "9. This one is a small, nice addition: you can use **underscores in numeric literals** for improved readability. This will shave off a few seconds every time you had to count how many digits a number had.\n",
        "\n",
        "https://www.python.org/dev/peps/pep-0515/\n"
      ]
    },
    {
      "cell_type": "code",
      "metadata": {
        "id": "6z-6gbCgmyls",
        "outputId": "ac8ba00f-cc4a-4e79-bf2c-50536e0cdfe9",
        "colab": {
          "base_uri": "https://localhost:8080/",
          "height": 35
        }
      },
      "source": [
        "x = 1_000_000; x"
      ],
      "execution_count": null,
      "outputs": [
        {
          "output_type": "execute_result",
          "data": {
            "text/plain": [
              "1000000"
            ]
          },
          "metadata": {
            "tags": []
          },
          "execution_count": 43
        }
      ]
    },
    {
      "cell_type": "markdown",
      "metadata": {
        "id": "dqRuWziXn-We"
      },
      "source": [
        "10. Using the **functools.lru_cache decorator**, you can wrap any function with a memoizing callable that implements a Least Recently Used (LRU) algorithm to evict the least recently used entries.\n",
        "\n",
        "https://docs.python.org/3/library/functools.html#functools.lru_cache\n",
        "\n",
        "https://www.cameronmacleod.com/blog/python-lru-cache"
      ]
    },
    {
      "cell_type": "code",
      "metadata": {
        "id": "ZiqFXhDsonAU"
      },
      "source": [
        "from functools import lru_cache"
      ],
      "execution_count": null,
      "outputs": []
    },
    {
      "cell_type": "code",
      "metadata": {
        "id": "uu2CT0RyndWC"
      },
      "source": [
        "@lru_cache(maxsize=64)\n",
        "def count_vowels(sentence):\n",
        "    sentence = sentence.casefold()\n",
        "    return sum(sentence.count(vowel) for vowel in 'aeiou')"
      ],
      "execution_count": null,
      "outputs": []
    }
  ]
}