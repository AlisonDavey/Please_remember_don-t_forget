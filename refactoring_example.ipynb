{
  "nbformat": 4,
  "nbformat_minor": 0,
  "metadata": {
    "colab": {
      "name": "Refactoring-example.ipynb",
      "provenance": [],
      "collapsed_sections": []
    },
    "kernelspec": {
      "name": "python3",
      "display_name": "Python 3"
    }
  },
  "cells": [
    {
      "cell_type": "code",
      "metadata": {
        "id": "7tR58NT3Hf4W",
        "outputId": "22e728e9-9e6e-4dd4-ff4a-0751e2e7868f",
        "colab": {
          "base_uri": "https://localhost:8080/",
          "height": 52
        }
      },
      "source": [
        "from google.colab import drive\n",
        "drive.mount('/content/drive')\n",
        "\n",
        "%cd '/content/drive/My Drive/Colab Notebooks'"
      ],
      "execution_count": 245,
      "outputs": [
        {
          "output_type": "stream",
          "text": [
            "Drive already mounted at /content/drive; to attempt to forcibly remount, call drive.mount(\"/content/drive\", force_remount=True).\n",
            "/content/drive/My Drive/Colab Notebooks\n"
          ],
          "name": "stdout"
        }
      ]
    },
    {
      "cell_type": "markdown",
      "metadata": {
        "id": "IyNH1f0Mhc08"
      },
      "source": [
        "\n",
        "Conor Hoekstra\n",
        "\n",
        "https://github.com/codereport/Talks/tree/master/2020-04-PyCon/BeautifulPythonRefactoring\n"
      ]
    },
    {
      "cell_type": "code",
      "metadata": {
        "id": "pDAh7z4IHmg6"
      },
      "source": [
        "import requests\n",
        "import lxml.html as lh\n",
        "import pandas as pd"
      ],
      "execution_count": 246,
      "outputs": []
    },
    {
      "cell_type": "code",
      "metadata": {
        "id": "TaXSPUKUzQ65"
      },
      "source": [
        "url = 'http://pokemondb.net/pokedex/all'"
      ],
      "execution_count": 247,
      "outputs": []
    },
    {
      "cell_type": "code",
      "metadata": {
        "id": "0_YyApX3y_fc",
        "outputId": "793a028b-e281-48fb-9f1c-e4682d5ad39d",
        "colab": {
          "base_uri": "https://localhost:8080/",
          "height": 35
        }
      },
      "source": [
        "page = requests.get(url)\n",
        "doc = lh.fromstring(page.content)\n",
        "tr_elements = doc.xpath('//tr')\n",
        "\n",
        "[len(T) for T in tr_elements[:10]]"
      ],
      "execution_count": 248,
      "outputs": [
        {
          "output_type": "execute_result",
          "data": {
            "text/plain": [
              "[10, 10, 10, 10, 10, 10, 10, 10, 10, 10]"
            ]
          },
          "metadata": {
            "tags": []
          },
          "execution_count": 248
        }
      ]
    },
    {
      "cell_type": "code",
      "metadata": {
        "id": "j5bUxVIgzOOS",
        "outputId": "ff5b6460-a963-466e-bb10-c18aaa1ccc5d",
        "colab": {
          "base_uri": "https://localhost:8080/",
          "height": 191
        }
      },
      "source": [
        "col = []\n",
        "i = 0\n",
        "for t in tr_elements[0]:\n",
        "  i += 1\n",
        "  name = t.text_content()\n",
        "  print('%d:\"%s\"'%(i, name))\n",
        "  col.append((name, []))"
      ],
      "execution_count": 249,
      "outputs": [
        {
          "output_type": "stream",
          "text": [
            "1:\"#\"\n",
            "2:\"Name\"\n",
            "3:\"Type\"\n",
            "4:\"Total\"\n",
            "5:\"HP\"\n",
            "6:\"Attack\"\n",
            "7:\"Defense\"\n",
            "8:\"Sp. Atk\"\n",
            "9:\"Sp. Def\"\n",
            "10:\"Speed\"\n"
          ],
          "name": "stdout"
        }
      ]
    },
    {
      "cell_type": "code",
      "metadata": {
        "id": "o-M8grukz0XG",
        "outputId": "833d43b6-76e5-4571-a8e5-2e6187a5acd6",
        "colab": {
          "base_uri": "https://localhost:8080/",
          "height": 35
        }
      },
      "source": [
        "for j in range(1, len(tr_elements)):\n",
        "  T = tr_elements[j]\n",
        "  if len(T) != 10:\n",
        "    break\n",
        "  i = 0\n",
        "  for t in T.iterchildren():\n",
        "    data = t.text_content()\n",
        "    if i > 0:\n",
        "      try:\n",
        "        data = int(data)\n",
        "      except:\n",
        "        pass\n",
        "    col[i][1].append(data)\n",
        "    i+=1\n",
        "\n",
        "[len(C) for (title,C) in col]"
      ],
      "execution_count": 250,
      "outputs": [
        {
          "output_type": "execute_result",
          "data": {
            "text/plain": [
              "[1034, 1034, 1034, 1034, 1034, 1034, 1034, 1034, 1034, 1034]"
            ]
          },
          "metadata": {
            "tags": []
          },
          "execution_count": 250
        }
      ]
    },
    {
      "cell_type": "code",
      "metadata": {
        "id": "iy0aMJ3r2x9g"
      },
      "source": [
        "Dict = {title:column for (title,column) in col}"
      ],
      "execution_count": 251,
      "outputs": []
    },
    {
      "cell_type": "code",
      "metadata": {
        "id": "ojqxYG1Lz6IH",
        "outputId": "fba5d661-ba82-4c6b-a06c-679d5e9a37c9",
        "colab": {
          "base_uri": "https://localhost:8080/",
          "height": 202
        }
      },
      "source": [
        "df = pd.DataFrame(Dict)\n",
        "df.head()"
      ],
      "execution_count": 252,
      "outputs": [
        {
          "output_type": "execute_result",
          "data": {
            "text/html": [
              "<div>\n",
              "<style scoped>\n",
              "    .dataframe tbody tr th:only-of-type {\n",
              "        vertical-align: middle;\n",
              "    }\n",
              "\n",
              "    .dataframe tbody tr th {\n",
              "        vertical-align: top;\n",
              "    }\n",
              "\n",
              "    .dataframe thead th {\n",
              "        text-align: right;\n",
              "    }\n",
              "</style>\n",
              "<table border=\"1\" class=\"dataframe\">\n",
              "  <thead>\n",
              "    <tr style=\"text-align: right;\">\n",
              "      <th></th>\n",
              "      <th>#</th>\n",
              "      <th>Name</th>\n",
              "      <th>Type</th>\n",
              "      <th>Total</th>\n",
              "      <th>HP</th>\n",
              "      <th>Attack</th>\n",
              "      <th>Defense</th>\n",
              "      <th>Sp. Atk</th>\n",
              "      <th>Sp. Def</th>\n",
              "      <th>Speed</th>\n",
              "    </tr>\n",
              "  </thead>\n",
              "  <tbody>\n",
              "    <tr>\n",
              "      <th>0</th>\n",
              "      <td>001</td>\n",
              "      <td>Bulbasaur</td>\n",
              "      <td>Grass Poison</td>\n",
              "      <td>318</td>\n",
              "      <td>45</td>\n",
              "      <td>49</td>\n",
              "      <td>49</td>\n",
              "      <td>65</td>\n",
              "      <td>65</td>\n",
              "      <td>45</td>\n",
              "    </tr>\n",
              "    <tr>\n",
              "      <th>1</th>\n",
              "      <td>002</td>\n",
              "      <td>Ivysaur</td>\n",
              "      <td>Grass Poison</td>\n",
              "      <td>405</td>\n",
              "      <td>60</td>\n",
              "      <td>62</td>\n",
              "      <td>63</td>\n",
              "      <td>80</td>\n",
              "      <td>80</td>\n",
              "      <td>60</td>\n",
              "    </tr>\n",
              "    <tr>\n",
              "      <th>2</th>\n",
              "      <td>003</td>\n",
              "      <td>Venusaur</td>\n",
              "      <td>Grass Poison</td>\n",
              "      <td>525</td>\n",
              "      <td>80</td>\n",
              "      <td>82</td>\n",
              "      <td>83</td>\n",
              "      <td>100</td>\n",
              "      <td>100</td>\n",
              "      <td>80</td>\n",
              "    </tr>\n",
              "    <tr>\n",
              "      <th>3</th>\n",
              "      <td>003</td>\n",
              "      <td>Venusaur Mega Venusaur</td>\n",
              "      <td>Grass Poison</td>\n",
              "      <td>625</td>\n",
              "      <td>80</td>\n",
              "      <td>100</td>\n",
              "      <td>123</td>\n",
              "      <td>122</td>\n",
              "      <td>120</td>\n",
              "      <td>80</td>\n",
              "    </tr>\n",
              "    <tr>\n",
              "      <th>4</th>\n",
              "      <td>004</td>\n",
              "      <td>Charmander</td>\n",
              "      <td>Fire</td>\n",
              "      <td>309</td>\n",
              "      <td>39</td>\n",
              "      <td>52</td>\n",
              "      <td>43</td>\n",
              "      <td>60</td>\n",
              "      <td>50</td>\n",
              "      <td>65</td>\n",
              "    </tr>\n",
              "  </tbody>\n",
              "</table>\n",
              "</div>"
            ],
            "text/plain": [
              "     #                    Name          Type  ...  Sp. Atk  Sp. Def  Speed\n",
              "0  001               Bulbasaur  Grass Poison  ...       65       65     45\n",
              "1  002                 Ivysaur  Grass Poison  ...       80       80     60\n",
              "2  003                Venusaur  Grass Poison  ...      100      100     80\n",
              "3  003  Venusaur Mega Venusaur  Grass Poison  ...      122      120     80\n",
              "4  004              Charmander         Fire   ...       60       50     65\n",
              "\n",
              "[5 rows x 10 columns]"
            ]
          },
          "metadata": {
            "tags": []
          },
          "execution_count": 252
        }
      ]
    },
    {
      "cell_type": "markdown",
      "metadata": {
        "id": "CMsTW0bE-1Io"
      },
      "source": [
        "### Now let's refactor"
      ]
    },
    {
      "cell_type": "code",
      "metadata": {
        "id": "RaidJvHu2PCP",
        "outputId": "438e8fd1-ac71-403e-a415-525730fb0ce6",
        "colab": {
          "base_uri": "https://localhost:8080/",
          "height": 191
        }
      },
      "source": [
        "# enumerate\n",
        "col = []\n",
        "for i,t in enumerate(tr_elements[0]):\n",
        "  name = t.text_content()\n",
        "  print('%d:\"%s\"'%(i, name))\n",
        "  col.append((name, []))"
      ],
      "execution_count": 253,
      "outputs": [
        {
          "output_type": "stream",
          "text": [
            "0:\"#\"\n",
            "1:\"Name\"\n",
            "2:\"Type\"\n",
            "3:\"Total\"\n",
            "4:\"HP\"\n",
            "5:\"Attack\"\n",
            "6:\"Defense\"\n",
            "7:\"Sp. Atk\"\n",
            "8:\"Sp. Def\"\n",
            "9:\"Speed\"\n"
          ],
          "name": "stdout"
        }
      ]
    },
    {
      "cell_type": "code",
      "metadata": {
        "id": "TaQDWT4y_h3I",
        "outputId": "72b193d5-19cc-4d6d-875d-6f688a9d9520",
        "colab": {
          "base_uri": "https://localhost:8080/",
          "height": 191
        }
      },
      "source": [
        "# delete print and enumerate\n",
        "col = []\n",
        "for t in tr_elements[0]:\n",
        "  name = t.text_content()\n",
        "  col.append((name, []))\n",
        "\n",
        "col"
      ],
      "execution_count": 254,
      "outputs": [
        {
          "output_type": "execute_result",
          "data": {
            "text/plain": [
              "[('#', []),\n",
              " ('Name', []),\n",
              " ('Type', []),\n",
              " ('Total', []),\n",
              " ('HP', []),\n",
              " ('Attack', []),\n",
              " ('Defense', []),\n",
              " ('Sp. Atk', []),\n",
              " ('Sp. Def', []),\n",
              " ('Speed', [])]"
            ]
          },
          "metadata": {
            "tags": []
          },
          "execution_count": 254
        }
      ]
    },
    {
      "cell_type": "code",
      "metadata": {
        "id": "2Y9O73lDADSP",
        "outputId": "98618f46-bb70-4c4a-de7f-3f6dcc2a386c",
        "colab": {
          "base_uri": "https://localhost:8080/",
          "height": 191
        }
      },
      "source": [
        "col = []\n",
        "for t in tr_elements[0]: col.append((t.text_content(), []))\n",
        "\n",
        "col"
      ],
      "execution_count": 255,
      "outputs": [
        {
          "output_type": "execute_result",
          "data": {
            "text/plain": [
              "[('#', []),\n",
              " ('Name', []),\n",
              " ('Type', []),\n",
              " ('Total', []),\n",
              " ('HP', []),\n",
              " ('Attack', []),\n",
              " ('Defense', []),\n",
              " ('Sp. Atk', []),\n",
              " ('Sp. Def', []),\n",
              " ('Speed', [])]"
            ]
          },
          "metadata": {
            "tags": []
          },
          "execution_count": 255
        }
      ]
    },
    {
      "cell_type": "code",
      "metadata": {
        "id": "_JRdVv28Ac9M",
        "outputId": "b8b2c40b-53c6-415e-b381-21004ccf4c48",
        "colab": {
          "base_uri": "https://localhost:8080/",
          "height": 191
        }
      },
      "source": [
        "# list comprehension\n",
        "col = []\n",
        "col = [(t.text_content(), []) for t in tr_elements[0]]\n",
        "\n",
        "col"
      ],
      "execution_count": 256,
      "outputs": [
        {
          "output_type": "execute_result",
          "data": {
            "text/plain": [
              "[('#', []),\n",
              " ('Name', []),\n",
              " ('Type', []),\n",
              " ('Total', []),\n",
              " ('HP', []),\n",
              " ('Attack', []),\n",
              " ('Defense', []),\n",
              " ('Sp. Atk', []),\n",
              " ('Sp. Def', []),\n",
              " ('Speed', [])]"
            ]
          },
          "metadata": {
            "tags": []
          },
          "execution_count": 256
        }
      ]
    },
    {
      "cell_type": "code",
      "metadata": {
        "id": "g71EwxFSAs8F",
        "outputId": "e37ed519-fd5f-4632-dbb1-2423b08f5660",
        "colab": {
          "base_uri": "https://localhost:8080/",
          "height": 35
        }
      },
      "source": [
        "# A. delete if\n",
        "for j in range(1, len(tr_elements)):\n",
        "  T = tr_elements[j]\n",
        "  i = 0\n",
        "  for t in T.iterchildren():\n",
        "    data = t.text_content()\n",
        "    if i > 0:\n",
        "      try:\n",
        "        data = int(data)\n",
        "      except:\n",
        "        pass\n",
        "    col[i][1].append(data)\n",
        "    i+=1\n",
        "\n",
        "[len(C) for (title,C) in col]"
      ],
      "execution_count": 257,
      "outputs": [
        {
          "output_type": "execute_result",
          "data": {
            "text/plain": [
              "[1034, 1034, 1034, 1034, 1034, 1034, 1034, 1034, 1034, 1034]"
            ]
          },
          "metadata": {
            "tags": []
          },
          "execution_count": 257
        }
      ]
    },
    {
      "cell_type": "code",
      "metadata": {
        "id": "Yu6t_zGlBH-p",
        "outputId": "f97ef4cc-98b9-455e-840e-fc1953da29ef",
        "colab": {
          "base_uri": "https://localhost:8080/",
          "height": 35
        }
      },
      "source": [
        "# B. use slicing (not j)\n",
        "for T in tr_elements[1:]:\n",
        "  i = 0\n",
        "  for t in T.iterchildren():\n",
        "    data = t.text_content()\n",
        "    if i > 0:\n",
        "      try:\n",
        "        data = int(data)\n",
        "      except:\n",
        "        pass\n",
        "    col[i][1].append(data)\n",
        "    i+=1\n",
        "\n",
        "[len(C) for (title,C) in col]"
      ],
      "execution_count": 258,
      "outputs": [
        {
          "output_type": "execute_result",
          "data": {
            "text/plain": [
              "[2068, 2068, 2068, 2068, 2068, 2068, 2068, 2068, 2068, 2068]"
            ]
          },
          "metadata": {
            "tags": []
          },
          "execution_count": 258
        }
      ]
    },
    {
      "cell_type": "code",
      "metadata": {
        "id": "pj3bRZFOBncZ",
        "outputId": "cf253b92-dfed-4ad9-834a-aebbafce7f5f",
        "colab": {
          "base_uri": "https://localhost:8080/",
          "height": 35
        }
      },
      "source": [
        "# C: delete if\n",
        "for T in tr_elements[1:]:\n",
        "  for i,t in enumerate(T.iterchildren()):\n",
        "    data = t.text_content()\n",
        "    try:\n",
        "      data = int(data)\n",
        "    except:\n",
        "      pass\n",
        "    col[i][1].append(data)\n",
        "\n",
        "[len(C) for (title,C) in col]"
      ],
      "execution_count": 259,
      "outputs": [
        {
          "output_type": "execute_result",
          "data": {
            "text/plain": [
              "[3102, 3102, 3102, 3102, 3102, 3102, 3102, 3102, 3102, 3102]"
            ]
          },
          "metadata": {
            "tags": []
          },
          "execution_count": 259
        }
      ]
    },
    {
      "cell_type": "code",
      "metadata": {
        "id": "lClePN3gDWUf",
        "outputId": "5aca000e-59c3-4299-b966-cc4894ac1c17",
        "colab": {
          "base_uri": "https://localhost:8080/",
          "height": 35
        }
      },
      "source": [
        "# D: use conditional expresssion\n",
        "for T in tr_elements[1:]:\n",
        "  for i,t in enumerate(T.iterchildren()):\n",
        "    data = t.text_content()\n",
        "    data = int(data) if data.isnumeric() else data\n",
        "    col[i][1].append(data)\n",
        "\n",
        "[len(C) for (title,C) in col]"
      ],
      "execution_count": 260,
      "outputs": [
        {
          "output_type": "execute_result",
          "data": {
            "text/plain": [
              "[4136, 4136, 4136, 4136, 4136, 4136, 4136, 4136, 4136, 4136]"
            ]
          },
          "metadata": {
            "tags": []
          },
          "execution_count": 260
        }
      ]
    },
    {
      "cell_type": "code",
      "metadata": {
        "id": "h353T8wuEN4Z",
        "outputId": "d2feb12b-5c4f-435e-e5d4-f84115ad4b37",
        "colab": {
          "base_uri": "https://localhost:8080/",
          "height": 35
        }
      },
      "source": [
        "# E: redundant line\n",
        "for T in tr_elements[1:]:\n",
        "  for i,t in enumerate(T.iterchildren()):\n",
        "    data = t.text_content()\n",
        "    col[i][1].append(int(data) if data.isnumeric() else data)\n",
        "\n",
        "[len(C) for (title,C) in col]"
      ],
      "execution_count": 261,
      "outputs": [
        {
          "output_type": "execute_result",
          "data": {
            "text/plain": [
              "[5170, 5170, 5170, 5170, 5170, 5170, 5170, 5170, 5170, 5170]"
            ]
          },
          "metadata": {
            "tags": []
          },
          "execution_count": 261
        }
      ]
    },
    {
      "cell_type": "code",
      "metadata": {
        "id": "ZtSIwrhGEt_o",
        "outputId": "16c69a1a-6833-4302-c439-3ab20ec05e51",
        "colab": {
          "base_uri": "https://localhost:8080/",
          "height": 202
        }
      },
      "source": [
        "# put it all together\n",
        "url = 'http://pokemondb.net/pokedex/all'\n",
        "\n",
        "page = requests.get(url)                        # page handle\n",
        "doc  = lh.fromstring(page.content)              # website contents\n",
        "tr   = doc.xpath('//tr')                        # html <tr> table\n",
        "col  = [(t.text_content(), []) for t in tr[0]]  # column titles\n",
        "\n",
        "# scrape data\n",
        "for T in tr[1:]:\n",
        "  for i,t in enumerate(T.iterchildren()):\n",
        "    data = t.text_content()\n",
        "    col[i][1].append(int(data) if data.isnumeric() else data)\n",
        "\n",
        "Dict = {title:column for (title,column) in col}\n",
        "df = pd.DataFrame(Dict)\n",
        "\n",
        "df.head()"
      ],
      "execution_count": 262,
      "outputs": [
        {
          "output_type": "execute_result",
          "data": {
            "text/html": [
              "<div>\n",
              "<style scoped>\n",
              "    .dataframe tbody tr th:only-of-type {\n",
              "        vertical-align: middle;\n",
              "    }\n",
              "\n",
              "    .dataframe tbody tr th {\n",
              "        vertical-align: top;\n",
              "    }\n",
              "\n",
              "    .dataframe thead th {\n",
              "        text-align: right;\n",
              "    }\n",
              "</style>\n",
              "<table border=\"1\" class=\"dataframe\">\n",
              "  <thead>\n",
              "    <tr style=\"text-align: right;\">\n",
              "      <th></th>\n",
              "      <th>#</th>\n",
              "      <th>Name</th>\n",
              "      <th>Type</th>\n",
              "      <th>Total</th>\n",
              "      <th>HP</th>\n",
              "      <th>Attack</th>\n",
              "      <th>Defense</th>\n",
              "      <th>Sp. Atk</th>\n",
              "      <th>Sp. Def</th>\n",
              "      <th>Speed</th>\n",
              "    </tr>\n",
              "  </thead>\n",
              "  <tbody>\n",
              "    <tr>\n",
              "      <th>0</th>\n",
              "      <td>1</td>\n",
              "      <td>Bulbasaur</td>\n",
              "      <td>Grass Poison</td>\n",
              "      <td>318</td>\n",
              "      <td>45</td>\n",
              "      <td>49</td>\n",
              "      <td>49</td>\n",
              "      <td>65</td>\n",
              "      <td>65</td>\n",
              "      <td>45</td>\n",
              "    </tr>\n",
              "    <tr>\n",
              "      <th>1</th>\n",
              "      <td>2</td>\n",
              "      <td>Ivysaur</td>\n",
              "      <td>Grass Poison</td>\n",
              "      <td>405</td>\n",
              "      <td>60</td>\n",
              "      <td>62</td>\n",
              "      <td>63</td>\n",
              "      <td>80</td>\n",
              "      <td>80</td>\n",
              "      <td>60</td>\n",
              "    </tr>\n",
              "    <tr>\n",
              "      <th>2</th>\n",
              "      <td>3</td>\n",
              "      <td>Venusaur</td>\n",
              "      <td>Grass Poison</td>\n",
              "      <td>525</td>\n",
              "      <td>80</td>\n",
              "      <td>82</td>\n",
              "      <td>83</td>\n",
              "      <td>100</td>\n",
              "      <td>100</td>\n",
              "      <td>80</td>\n",
              "    </tr>\n",
              "    <tr>\n",
              "      <th>3</th>\n",
              "      <td>3</td>\n",
              "      <td>Venusaur Mega Venusaur</td>\n",
              "      <td>Grass Poison</td>\n",
              "      <td>625</td>\n",
              "      <td>80</td>\n",
              "      <td>100</td>\n",
              "      <td>123</td>\n",
              "      <td>122</td>\n",
              "      <td>120</td>\n",
              "      <td>80</td>\n",
              "    </tr>\n",
              "    <tr>\n",
              "      <th>4</th>\n",
              "      <td>4</td>\n",
              "      <td>Charmander</td>\n",
              "      <td>Fire</td>\n",
              "      <td>309</td>\n",
              "      <td>39</td>\n",
              "      <td>52</td>\n",
              "      <td>43</td>\n",
              "      <td>60</td>\n",
              "      <td>50</td>\n",
              "      <td>65</td>\n",
              "    </tr>\n",
              "  </tbody>\n",
              "</table>\n",
              "</div>"
            ],
            "text/plain": [
              "   #                    Name          Type  ...  Sp. Atk  Sp. Def  Speed\n",
              "0  1               Bulbasaur  Grass Poison  ...       65       65     45\n",
              "1  2                 Ivysaur  Grass Poison  ...       80       80     60\n",
              "2  3                Venusaur  Grass Poison  ...      100      100     80\n",
              "3  3  Venusaur Mega Venusaur  Grass Poison  ...      122      120     80\n",
              "4  4              Charmander         Fire   ...       60       50     65\n",
              "\n",
              "[5 rows x 10 columns]"
            ]
          },
          "metadata": {
            "tags": []
          },
          "execution_count": 262
        }
      ]
    },
    {
      "cell_type": "code",
      "metadata": {
        "id": "UWPAyadYFDaA",
        "outputId": "73da0dfb-f699-4c29-9e31-cb8d851221d5",
        "colab": {
          "base_uri": "https://localhost:8080/",
          "height": 202
        }
      },
      "source": [
        "url = 'http://pokemondb.net/pokedex/all'\n",
        "\n",
        "page    = requests.get(url)                        # page handle\n",
        "doc     = lh.fromstring(page.content)              # website contents\n",
        "tr      = doc.xpath('//tr')                        # html <tr> table\n",
        "titles  = [t.text_content() for t in tr[0]]        # column titles\n",
        "\n",
        "# scrape data\n",
        "fmt = lambda data : int(data) if data.isnumeric() else data\n",
        "cols = zip(*[[fmt(t.text_content()) for t in T.iterchildren()] for T in tr[1:]])\n",
        "\n",
        "Dict = {title:column for title,column in zip(titles,cols)}\n",
        "df = pd.DataFrame(Dict)\n",
        "df.head()"
      ],
      "execution_count": 263,
      "outputs": [
        {
          "output_type": "execute_result",
          "data": {
            "text/html": [
              "<div>\n",
              "<style scoped>\n",
              "    .dataframe tbody tr th:only-of-type {\n",
              "        vertical-align: middle;\n",
              "    }\n",
              "\n",
              "    .dataframe tbody tr th {\n",
              "        vertical-align: top;\n",
              "    }\n",
              "\n",
              "    .dataframe thead th {\n",
              "        text-align: right;\n",
              "    }\n",
              "</style>\n",
              "<table border=\"1\" class=\"dataframe\">\n",
              "  <thead>\n",
              "    <tr style=\"text-align: right;\">\n",
              "      <th></th>\n",
              "      <th>#</th>\n",
              "      <th>Name</th>\n",
              "      <th>Type</th>\n",
              "      <th>Total</th>\n",
              "      <th>HP</th>\n",
              "      <th>Attack</th>\n",
              "      <th>Defense</th>\n",
              "      <th>Sp. Atk</th>\n",
              "      <th>Sp. Def</th>\n",
              "      <th>Speed</th>\n",
              "    </tr>\n",
              "  </thead>\n",
              "  <tbody>\n",
              "    <tr>\n",
              "      <th>0</th>\n",
              "      <td>1</td>\n",
              "      <td>Bulbasaur</td>\n",
              "      <td>Grass Poison</td>\n",
              "      <td>318</td>\n",
              "      <td>45</td>\n",
              "      <td>49</td>\n",
              "      <td>49</td>\n",
              "      <td>65</td>\n",
              "      <td>65</td>\n",
              "      <td>45</td>\n",
              "    </tr>\n",
              "    <tr>\n",
              "      <th>1</th>\n",
              "      <td>2</td>\n",
              "      <td>Ivysaur</td>\n",
              "      <td>Grass Poison</td>\n",
              "      <td>405</td>\n",
              "      <td>60</td>\n",
              "      <td>62</td>\n",
              "      <td>63</td>\n",
              "      <td>80</td>\n",
              "      <td>80</td>\n",
              "      <td>60</td>\n",
              "    </tr>\n",
              "    <tr>\n",
              "      <th>2</th>\n",
              "      <td>3</td>\n",
              "      <td>Venusaur</td>\n",
              "      <td>Grass Poison</td>\n",
              "      <td>525</td>\n",
              "      <td>80</td>\n",
              "      <td>82</td>\n",
              "      <td>83</td>\n",
              "      <td>100</td>\n",
              "      <td>100</td>\n",
              "      <td>80</td>\n",
              "    </tr>\n",
              "    <tr>\n",
              "      <th>3</th>\n",
              "      <td>3</td>\n",
              "      <td>Venusaur Mega Venusaur</td>\n",
              "      <td>Grass Poison</td>\n",
              "      <td>625</td>\n",
              "      <td>80</td>\n",
              "      <td>100</td>\n",
              "      <td>123</td>\n",
              "      <td>122</td>\n",
              "      <td>120</td>\n",
              "      <td>80</td>\n",
              "    </tr>\n",
              "    <tr>\n",
              "      <th>4</th>\n",
              "      <td>4</td>\n",
              "      <td>Charmander</td>\n",
              "      <td>Fire</td>\n",
              "      <td>309</td>\n",
              "      <td>39</td>\n",
              "      <td>52</td>\n",
              "      <td>43</td>\n",
              "      <td>60</td>\n",
              "      <td>50</td>\n",
              "      <td>65</td>\n",
              "    </tr>\n",
              "  </tbody>\n",
              "</table>\n",
              "</div>"
            ],
            "text/plain": [
              "   #                    Name          Type  ...  Sp. Atk  Sp. Def  Speed\n",
              "0  1               Bulbasaur  Grass Poison  ...       65       65     45\n",
              "1  2                 Ivysaur  Grass Poison  ...       80       80     60\n",
              "2  3                Venusaur  Grass Poison  ...      100      100     80\n",
              "3  3  Venusaur Mega Venusaur  Grass Poison  ...      122      120     80\n",
              "4  4              Charmander         Fire   ...       60       50     65\n",
              "\n",
              "[5 rows x 10 columns]"
            ]
          },
          "metadata": {
            "tags": []
          },
          "execution_count": 263
        }
      ]
    },
    {
      "cell_type": "code",
      "metadata": {
        "id": "nsEkGmLuM_5p",
        "outputId": "1be765d0-6a20-40ef-85e2-6d30267be160",
        "colab": {
          "base_uri": "https://localhost:8080/",
          "height": 202
        }
      },
      "source": [
        "header = {\"User-Agent\": \"Mozilla /5.0 (X11; Linux x86_64) AppleWebKit/537.36 (KHTML, like Gecko) Chrome/50.0.2661.75 Safari/537.36\",\n",
        "    \"X-Requested-With\": \"XMLHttpRequest\" }\n",
        "r  = requests.get(url, headers=header)\n",
        "df = pd.read_html(r.text)[0]\n",
        "\n",
        "df.head()"
      ],
      "execution_count": 268,
      "outputs": [
        {
          "output_type": "execute_result",
          "data": {
            "text/html": [
              "<div>\n",
              "<style scoped>\n",
              "    .dataframe tbody tr th:only-of-type {\n",
              "        vertical-align: middle;\n",
              "    }\n",
              "\n",
              "    .dataframe tbody tr th {\n",
              "        vertical-align: top;\n",
              "    }\n",
              "\n",
              "    .dataframe thead th {\n",
              "        text-align: right;\n",
              "    }\n",
              "</style>\n",
              "<table border=\"1\" class=\"dataframe\">\n",
              "  <thead>\n",
              "    <tr style=\"text-align: right;\">\n",
              "      <th></th>\n",
              "      <th>#</th>\n",
              "      <th>Name</th>\n",
              "      <th>Type</th>\n",
              "      <th>Total</th>\n",
              "      <th>HP</th>\n",
              "      <th>Attack</th>\n",
              "      <th>Defense</th>\n",
              "      <th>Sp. Atk</th>\n",
              "      <th>Sp. Def</th>\n",
              "      <th>Speed</th>\n",
              "    </tr>\n",
              "  </thead>\n",
              "  <tbody>\n",
              "    <tr>\n",
              "      <th>0</th>\n",
              "      <td>1</td>\n",
              "      <td>Bulbasaur</td>\n",
              "      <td>Grass Poison</td>\n",
              "      <td>318</td>\n",
              "      <td>45</td>\n",
              "      <td>49</td>\n",
              "      <td>49</td>\n",
              "      <td>65</td>\n",
              "      <td>65</td>\n",
              "      <td>45</td>\n",
              "    </tr>\n",
              "    <tr>\n",
              "      <th>1</th>\n",
              "      <td>2</td>\n",
              "      <td>Ivysaur</td>\n",
              "      <td>Grass Poison</td>\n",
              "      <td>405</td>\n",
              "      <td>60</td>\n",
              "      <td>62</td>\n",
              "      <td>63</td>\n",
              "      <td>80</td>\n",
              "      <td>80</td>\n",
              "      <td>60</td>\n",
              "    </tr>\n",
              "    <tr>\n",
              "      <th>2</th>\n",
              "      <td>3</td>\n",
              "      <td>Venusaur</td>\n",
              "      <td>Grass Poison</td>\n",
              "      <td>525</td>\n",
              "      <td>80</td>\n",
              "      <td>82</td>\n",
              "      <td>83</td>\n",
              "      <td>100</td>\n",
              "      <td>100</td>\n",
              "      <td>80</td>\n",
              "    </tr>\n",
              "    <tr>\n",
              "      <th>3</th>\n",
              "      <td>3</td>\n",
              "      <td>Venusaur Mega Venusaur</td>\n",
              "      <td>Grass Poison</td>\n",
              "      <td>625</td>\n",
              "      <td>80</td>\n",
              "      <td>100</td>\n",
              "      <td>123</td>\n",
              "      <td>122</td>\n",
              "      <td>120</td>\n",
              "      <td>80</td>\n",
              "    </tr>\n",
              "    <tr>\n",
              "      <th>4</th>\n",
              "      <td>4</td>\n",
              "      <td>Charmander</td>\n",
              "      <td>Fire</td>\n",
              "      <td>309</td>\n",
              "      <td>39</td>\n",
              "      <td>52</td>\n",
              "      <td>43</td>\n",
              "      <td>60</td>\n",
              "      <td>50</td>\n",
              "      <td>65</td>\n",
              "    </tr>\n",
              "  </tbody>\n",
              "</table>\n",
              "</div>"
            ],
            "text/plain": [
              "   #                    Name          Type  ...  Sp. Atk  Sp. Def  Speed\n",
              "0  1               Bulbasaur  Grass Poison  ...       65       65     45\n",
              "1  2                 Ivysaur  Grass Poison  ...       80       80     60\n",
              "2  3                Venusaur  Grass Poison  ...      100      100     80\n",
              "3  3  Venusaur Mega Venusaur  Grass Poison  ...      122      120     80\n",
              "4  4              Charmander          Fire  ...       60       50     65\n",
              "\n",
              "[5 rows x 10 columns]"
            ]
          },
          "metadata": {
            "tags": []
          },
          "execution_count": 268
        }
      ]
    },
    {
      "cell_type": "code",
      "metadata": {
        "id": "bZGkhA6_LcR4",
        "outputId": "e2956445-0b29-4792-c4dd-0d9715e12682",
        "colab": {
          "base_uri": "https://localhost:8080/",
          "height": 202
        }
      },
      "source": [
        "df = pd.read_html(requests.get(url).text)[0]\n",
        "df.head()"
      ],
      "execution_count": 269,
      "outputs": [
        {
          "output_type": "execute_result",
          "data": {
            "text/html": [
              "<div>\n",
              "<style scoped>\n",
              "    .dataframe tbody tr th:only-of-type {\n",
              "        vertical-align: middle;\n",
              "    }\n",
              "\n",
              "    .dataframe tbody tr th {\n",
              "        vertical-align: top;\n",
              "    }\n",
              "\n",
              "    .dataframe thead th {\n",
              "        text-align: right;\n",
              "    }\n",
              "</style>\n",
              "<table border=\"1\" class=\"dataframe\">\n",
              "  <thead>\n",
              "    <tr style=\"text-align: right;\">\n",
              "      <th></th>\n",
              "      <th>#</th>\n",
              "      <th>Name</th>\n",
              "      <th>Type</th>\n",
              "      <th>Total</th>\n",
              "      <th>HP</th>\n",
              "      <th>Attack</th>\n",
              "      <th>Defense</th>\n",
              "      <th>Sp. Atk</th>\n",
              "      <th>Sp. Def</th>\n",
              "      <th>Speed</th>\n",
              "    </tr>\n",
              "  </thead>\n",
              "  <tbody>\n",
              "    <tr>\n",
              "      <th>0</th>\n",
              "      <td>1</td>\n",
              "      <td>Bulbasaur</td>\n",
              "      <td>Grass Poison</td>\n",
              "      <td>318</td>\n",
              "      <td>45</td>\n",
              "      <td>49</td>\n",
              "      <td>49</td>\n",
              "      <td>65</td>\n",
              "      <td>65</td>\n",
              "      <td>45</td>\n",
              "    </tr>\n",
              "    <tr>\n",
              "      <th>1</th>\n",
              "      <td>2</td>\n",
              "      <td>Ivysaur</td>\n",
              "      <td>Grass Poison</td>\n",
              "      <td>405</td>\n",
              "      <td>60</td>\n",
              "      <td>62</td>\n",
              "      <td>63</td>\n",
              "      <td>80</td>\n",
              "      <td>80</td>\n",
              "      <td>60</td>\n",
              "    </tr>\n",
              "    <tr>\n",
              "      <th>2</th>\n",
              "      <td>3</td>\n",
              "      <td>Venusaur</td>\n",
              "      <td>Grass Poison</td>\n",
              "      <td>525</td>\n",
              "      <td>80</td>\n",
              "      <td>82</td>\n",
              "      <td>83</td>\n",
              "      <td>100</td>\n",
              "      <td>100</td>\n",
              "      <td>80</td>\n",
              "    </tr>\n",
              "    <tr>\n",
              "      <th>3</th>\n",
              "      <td>3</td>\n",
              "      <td>Venusaur Mega Venusaur</td>\n",
              "      <td>Grass Poison</td>\n",
              "      <td>625</td>\n",
              "      <td>80</td>\n",
              "      <td>100</td>\n",
              "      <td>123</td>\n",
              "      <td>122</td>\n",
              "      <td>120</td>\n",
              "      <td>80</td>\n",
              "    </tr>\n",
              "    <tr>\n",
              "      <th>4</th>\n",
              "      <td>4</td>\n",
              "      <td>Charmander</td>\n",
              "      <td>Fire</td>\n",
              "      <td>309</td>\n",
              "      <td>39</td>\n",
              "      <td>52</td>\n",
              "      <td>43</td>\n",
              "      <td>60</td>\n",
              "      <td>50</td>\n",
              "      <td>65</td>\n",
              "    </tr>\n",
              "  </tbody>\n",
              "</table>\n",
              "</div>"
            ],
            "text/plain": [
              "   #                    Name          Type  ...  Sp. Atk  Sp. Def  Speed\n",
              "0  1               Bulbasaur  Grass Poison  ...       65       65     45\n",
              "1  2                 Ivysaur  Grass Poison  ...       80       80     60\n",
              "2  3                Venusaur  Grass Poison  ...      100      100     80\n",
              "3  3  Venusaur Mega Venusaur  Grass Poison  ...      122      120     80\n",
              "4  4              Charmander          Fire  ...       60       50     65\n",
              "\n",
              "[5 rows x 10 columns]"
            ]
          },
          "metadata": {
            "tags": []
          },
          "execution_count": 269
        }
      ]
    }
  ]
}